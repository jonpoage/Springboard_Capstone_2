{
 "cells": [
  {
   "cell_type": "code",
   "execution_count": 1,
   "metadata": {},
   "outputs": [
    {
     "name": "stderr",
     "output_type": "stream",
     "text": [
      "Using TensorFlow backend.\n"
     ]
    }
   ],
   "source": [
    "import numpy as np\n",
    "import pandas as pd\n",
    "import matplotlib.pyplot as plt\n",
    "import load_processed_data as ld\n",
    "from definitions import REPO_ROOT_PATH, PROCESSED_DATA_PATH\n",
    "from keras.preprocessing.image import img_to_array, load_img, array_to_img\n",
    "import cv2"
   ]
  },
  {
   "cell_type": "code",
   "execution_count": 2,
   "metadata": {},
   "outputs": [],
   "source": [
    "# load train, validation, test dataframes with the processed data\n",
    "_, _, df_train = ld.load_train_data()\n",
    "_, _, df_val = ld.load_validation_data()\n",
    "_, _, df_test = ld.load_test_data()\n",
    "\n",
    "# concatenate the dataframes into one with all processed data\n",
    "df = pd.concat([df_train, df_val, df_test], ignore_index=True)"
   ]
  },
  {
   "cell_type": "code",
   "execution_count": 3,
   "metadata": {},
   "outputs": [],
   "source": [
    "df_class_list = df.image_class.unique().tolist()\n",
    "\n",
    "# initialize dicts of pixel arrays \n",
    "X_rgb = {}\n",
    "X_avg_rgb = {}\n",
    "X_avg_bw = {}\n",
    "\n",
    "# fill dicts with pixel arrays keyed by class\n",
    "for c in df_class_list:\n",
    "    X_rgb[c] = np.array(df.pixel_array_custom_image_size[df.image_class == c].tolist())\n",
    "    X_avg_rgb[c] = np.mean(X_rgb[c], axis=0)\n",
    "    X_avg_bw[c] = cv2.cvtColor(X_avg_rgb[c], cv2.COLOR_RGB2GRAY)"
   ]
  },
  {
   "cell_type": "code",
   "execution_count": null,
   "metadata": {},
   "outputs": [],
   "source": []
  }
 ],
 "metadata": {
  "kernelspec": {
   "display_name": "Python (py36)",
   "language": "python",
   "name": "py36"
  },
  "language_info": {
   "codemirror_mode": {
    "name": "ipython",
    "version": 3
   },
   "file_extension": ".py",
   "mimetype": "text/x-python",
   "name": "python",
   "nbconvert_exporter": "python",
   "pygments_lexer": "ipython3",
   "version": "3.6.8"
  }
 },
 "nbformat": 4,
 "nbformat_minor": 2
}

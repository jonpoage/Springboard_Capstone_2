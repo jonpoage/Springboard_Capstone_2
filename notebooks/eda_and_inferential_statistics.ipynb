{
 "cells": [
  {
   "cell_type": "code",
   "execution_count": 21,
   "metadata": {},
   "outputs": [],
   "source": [
    "import numpy as np\n",
    "import pandas as pd\n",
    "import matplotlib.pyplot as plt\n",
    "import load_processed_data as ld\n",
    "from definitions import REPO_ROOT_PATH\n",
    "from keras.preprocessing.image import img_to_array, load_img"
   ]
  },
  {
   "cell_type": "code",
   "execution_count": 3,
   "metadata": {},
   "outputs": [],
   "source": [
    "X_train, y_ohe_train, df_train = ld.load_train_data()"
   ]
  },
  {
   "cell_type": "code",
   "execution_count": 4,
   "metadata": {},
   "outputs": [],
   "source": [
    "import cv2"
   ]
  },
  {
   "cell_type": "code",
   "execution_count": 5,
   "metadata": {},
   "outputs": [
    {
     "data": {
      "text/html": [
       "<div>\n",
       "<style scoped>\n",
       "    .dataframe tbody tr th:only-of-type {\n",
       "        vertical-align: middle;\n",
       "    }\n",
       "\n",
       "    .dataframe tbody tr th {\n",
       "        vertical-align: top;\n",
       "    }\n",
       "\n",
       "    .dataframe thead th {\n",
       "        text-align: right;\n",
       "    }\n",
       "</style>\n",
       "<table border=\"1\" class=\"dataframe\">\n",
       "  <thead>\n",
       "    <tr style=\"text-align: right;\">\n",
       "      <th></th>\n",
       "      <th>image_file_base_path</th>\n",
       "      <th>image_class</th>\n",
       "      <th>pixel_array</th>\n",
       "    </tr>\n",
       "  </thead>\n",
       "  <tbody>\n",
       "    <tr>\n",
       "      <th>0</th>\n",
       "      <td>BACTERIA-3956374-0001.jpeg</td>\n",
       "      <td>bacterial_pneumonia</td>\n",
       "      <td>[[[17.0, 17.0, 17.0], [17.0, 17.0, 17.0], [16....</td>\n",
       "    </tr>\n",
       "  </tbody>\n",
       "</table>\n",
       "</div>"
      ],
      "text/plain": [
       "         image_file_base_path          image_class  \\\n",
       "0  BACTERIA-3956374-0001.jpeg  bacterial_pneumonia   \n",
       "\n",
       "                                         pixel_array  \n",
       "0  [[[17.0, 17.0, 17.0], [17.0, 17.0, 17.0], [16....  "
      ]
     },
     "execution_count": 5,
     "metadata": {},
     "output_type": "execute_result"
    }
   ],
   "source": [
    "df_train.head(1)"
   ]
  },
  {
   "cell_type": "code",
   "execution_count": 12,
   "metadata": {},
   "outputs": [],
   "source": [
    "i1 = X_train[0]\n",
    "i2 = cv2.imread(REPO_ROOT_PATH + \"/data/processed/train_data/image_files/BACTERIA-3956374-0001.jpeg\")"
   ]
  },
  {
   "cell_type": "code",
   "execution_count": 22,
   "metadata": {},
   "outputs": [],
   "source": [
    "i3 = img_to_array(load_img(REPO_ROOT_PATH + \"/data/processed/train_data/image_files/BACTERIA-3956374-0001.jpeg\"))"
   ]
  },
  {
   "cell_type": "code",
   "execution_count": 17,
   "metadata": {},
   "outputs": [
    {
     "data": {
      "text/plain": [
       "array([[[17., 17., 17.],\n",
       "        [17., 17., 17.],\n",
       "        [17., 17., 17.],\n",
       "        ...,\n",
       "        [13., 13., 13.],\n",
       "        [13., 13., 13.],\n",
       "        [13., 13., 13.]],\n",
       "\n",
       "       [[17., 17., 17.],\n",
       "        [17., 17., 17.],\n",
       "        [17., 17., 17.],\n",
       "        ...,\n",
       "        [13., 13., 13.],\n",
       "        [13., 13., 13.],\n",
       "        [13., 13., 13.]],\n",
       "\n",
       "       [[17., 17., 17.],\n",
       "        [17., 17., 17.],\n",
       "        [17., 17., 17.],\n",
       "        ...,\n",
       "        [13., 13., 13.],\n",
       "        [13., 13., 13.],\n",
       "        [13., 13., 13.]],\n",
       "\n",
       "       ...,\n",
       "\n",
       "       [[12., 12., 12.],\n",
       "        [12., 12., 12.],\n",
       "        [12., 12., 12.],\n",
       "        ...,\n",
       "        [15., 15., 15.],\n",
       "        [16., 16., 16.],\n",
       "        [16., 16., 16.]],\n",
       "\n",
       "       [[13., 13., 13.],\n",
       "        [13., 13., 13.],\n",
       "        [13., 13., 13.],\n",
       "        ...,\n",
       "        [15., 15., 15.],\n",
       "        [14., 14., 14.],\n",
       "        [14., 14., 14.]],\n",
       "\n",
       "       [[13., 13., 13.],\n",
       "        [13., 13., 13.],\n",
       "        [13., 13., 13.],\n",
       "        ...,\n",
       "        [15., 15., 15.],\n",
       "        [14., 14., 14.],\n",
       "        [14., 14., 14.]]], dtype=float32)"
      ]
     },
     "execution_count": 17,
     "metadata": {},
     "output_type": "execute_result"
    }
   ],
   "source": [
    "i2 = i2.astype(np.float32)\n",
    "i2"
   ]
  },
  {
   "cell_type": "code",
   "execution_count": 23,
   "metadata": {},
   "outputs": [
    {
     "data": {
      "text/plain": [
       "array([[[17., 17., 17.],\n",
       "        [17., 17., 17.],\n",
       "        [17., 17., 17.],\n",
       "        ...,\n",
       "        [13., 13., 13.],\n",
       "        [13., 13., 13.],\n",
       "        [13., 13., 13.]],\n",
       "\n",
       "       [[17., 17., 17.],\n",
       "        [17., 17., 17.],\n",
       "        [17., 17., 17.],\n",
       "        ...,\n",
       "        [13., 13., 13.],\n",
       "        [13., 13., 13.],\n",
       "        [13., 13., 13.]],\n",
       "\n",
       "       [[17., 17., 17.],\n",
       "        [17., 17., 17.],\n",
       "        [17., 17., 17.],\n",
       "        ...,\n",
       "        [13., 13., 13.],\n",
       "        [13., 13., 13.],\n",
       "        [13., 13., 13.]],\n",
       "\n",
       "       ...,\n",
       "\n",
       "       [[12., 12., 12.],\n",
       "        [12., 12., 12.],\n",
       "        [12., 12., 12.],\n",
       "        ...,\n",
       "        [15., 15., 15.],\n",
       "        [16., 16., 16.],\n",
       "        [16., 16., 16.]],\n",
       "\n",
       "       [[13., 13., 13.],\n",
       "        [13., 13., 13.],\n",
       "        [13., 13., 13.],\n",
       "        ...,\n",
       "        [15., 15., 15.],\n",
       "        [14., 14., 14.],\n",
       "        [14., 14., 14.]],\n",
       "\n",
       "       [[13., 13., 13.],\n",
       "        [13., 13., 13.],\n",
       "        [13., 13., 13.],\n",
       "        ...,\n",
       "        [15., 15., 15.],\n",
       "        [14., 14., 14.],\n",
       "        [14., 14., 14.]]], dtype=float32)"
      ]
     },
     "execution_count": 23,
     "metadata": {},
     "output_type": "execute_result"
    }
   ],
   "source": [
    "i3"
   ]
  },
  {
   "cell_type": "code",
   "execution_count": 24,
   "metadata": {},
   "outputs": [
    {
     "data": {
      "text/plain": [
       "True"
      ]
     },
     "execution_count": 24,
     "metadata": {},
     "output_type": "execute_result"
    }
   ],
   "source": [
    "np.array_equal(i3, i2)"
   ]
  }
 ],
 "metadata": {
  "kernelspec": {
   "display_name": "Python (py36)",
   "language": "python",
   "name": "py36"
  },
  "language_info": {
   "codemirror_mode": {
    "name": "ipython",
    "version": 3
   },
   "file_extension": ".py",
   "mimetype": "text/x-python",
   "name": "python",
   "nbconvert_exporter": "python",
   "pygments_lexer": "ipython3",
   "version": "3.6.8"
  }
 },
 "nbformat": 4,
 "nbformat_minor": 2
}

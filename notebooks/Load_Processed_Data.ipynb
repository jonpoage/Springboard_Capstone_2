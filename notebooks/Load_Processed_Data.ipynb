{
 "cells": [
  {
   "cell_type": "code",
   "execution_count": 1,
   "metadata": {},
   "outputs": [
    {
     "name": "stderr",
     "output_type": "stream",
     "text": [
      "Using TensorFlow backend.\n"
     ]
    }
   ],
   "source": [
    "from glob import glob\n",
    "import numpy as np\n",
    "import pandas as pd\n",
    "import matplotlib.pyplot as plt\n",
    "from keras.preprocessing.image import img_to_array, load_img\n",
    "import PIL\n",
    "import os\n",
    "import shutil"
   ]
  },
  {
   "cell_type": "code",
   "execution_count": 2,
   "metadata": {},
   "outputs": [],
   "source": [
    "# set random seed\n",
    "np.random.seed(10)"
   ]
  },
  {
   "cell_type": "code",
   "execution_count": 3,
   "metadata": {},
   "outputs": [],
   "source": [
    "###############################################################################\n",
    "# Set up processed input directories\n",
    "###############################################################################"
   ]
  },
  {
   "cell_type": "code",
   "execution_count": 4,
   "metadata": {},
   "outputs": [],
   "source": [
    "# NOTE: The root repository directory is set for my laptop!\n",
    "#       Users may need to update the path below before running the code.\n",
    "\n",
    "# set path for repository root directory\n",
    "#repo_root_path = \"C:/Users/Jonathon.Poage/Desktop/Springboard/Git_and_Github/Capstone_2_repo/\"\n",
    "repo_root_path = \"C:/Users/Jon/Springboard/Capstone_2_repo/\""
   ]
  },
  {
   "cell_type": "code",
   "execution_count": 5,
   "metadata": {},
   "outputs": [],
   "source": [
    "# set path for processed data directory\n",
    "processed_data_path = repo_root_path + \"data/processed/\"\n",
    "\n",
    "# make train validation test subdirectories\n",
    "train_dir = processed_data_path + \"train_data/\"\n",
    "validation_dir = processed_data_path + \"validation_data/\"\n",
    "test_dir = processed_data_path + \"test_data/\"\n",
    "\n",
    "# set image file subdirectory\n",
    "img_subdir = \"image_files/\""
   ]
  },
  {
   "cell_type": "code",
   "execution_count": 6,
   "metadata": {},
   "outputs": [],
   "source": [
    "###############################################################################\n",
    "# Load processed data into dataframes\n",
    "###############################################################################"
   ]
  },
  {
   "cell_type": "code",
   "execution_count": 7,
   "metadata": {},
   "outputs": [
    {
     "name": "stdout",
     "output_type": "stream",
     "text": [
      "loading data\n"
     ]
    }
   ],
   "source": [
    "print(\"loading data\")"
   ]
  },
  {
   "cell_type": "code",
   "execution_count": 8,
   "metadata": {},
   "outputs": [],
   "source": [
    "# load validation and test data\n",
    "df_val = pd.read_pickle(validation_dir + \"validation_data.pickle\")\n",
    "df_test = pd.read_pickle(test_dir + \"test_data.pickle\")\n",
    "\n",
    "# load the train data in parts\n",
    "train_data_files = glob(train_dir + \"train_data_part*.pickle\")\n",
    "df_train_parts = []\n",
    "\n",
    "for fn in train_data_files:\n",
    "    df_train_parts.append(pd.read_pickle(fn))\n",
    "    \n",
    "df_train = pd.concat(df_train_parts).sort_index()"
   ]
  },
  {
   "cell_type": "code",
   "execution_count": 9,
   "metadata": {},
   "outputs": [],
   "source": [
    "###############################################################################\n",
    "# prepare features and target variables\n",
    "###############################################################################"
   ]
  },
  {
   "cell_type": "code",
   "execution_count": 22,
   "metadata": {},
   "outputs": [],
   "source": [
    "# make 4-D numpy arrays with pixel intensities\n",
    "X_train = np.array(df_train.pixel_array.tolist())\n",
    "X_val = np.array(df_val.pixel_array.tolist())\n",
    "X_test = np.array(df_test.pixel_array.tolist())"
   ]
  },
  {
   "cell_type": "code",
   "execution_count": 52,
   "metadata": {},
   "outputs": [],
   "source": [
    "# make one hot encoded target variable arrays\n",
    "y_train_ohe = pd.get_dummies(df_train.image_class).values\n",
    "y_val_ohe = pd.get_dummies(df_val.image_class).values\n",
    "y_test_ohe = pd.get_dummies(df_test.image_class).values\n",
    "\n",
    "# list of image classes\n",
    "# list indices correspond to indices of target variable arrays\n",
    "y_ohe_classes = pd.get_dummies(df_test.image_class).columns.tolist()"
   ]
  }
 ],
 "metadata": {
  "kernelspec": {
   "display_name": "Python (py36)",
   "language": "python",
   "name": "py36"
  },
  "language_info": {
   "codemirror_mode": {
    "name": "ipython",
    "version": 3
   },
   "file_extension": ".py",
   "mimetype": "text/x-python",
   "name": "python",
   "nbconvert_exporter": "python",
   "pygments_lexer": "ipython3",
   "version": "3.6.8"
  }
 },
 "nbformat": 4,
 "nbformat_minor": 2
}

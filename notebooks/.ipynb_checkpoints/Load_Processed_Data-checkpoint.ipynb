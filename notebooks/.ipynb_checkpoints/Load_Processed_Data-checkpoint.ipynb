{
 "cells": [
  {
   "cell_type": "code",
   "execution_count": 22,
   "metadata": {},
   "outputs": [],
   "source": [
    "from glob import glob\n",
    "import numpy as np\n",
    "import pandas as pd\n",
    "import matplotlib.pyplot as plt\n",
    "from keras.preprocessing.image import img_to_array, load_img\n",
    "import PIL\n",
    "import os\n",
    "import shutil"
   ]
  },
  {
   "cell_type": "code",
   "execution_count": 2,
   "metadata": {},
   "outputs": [],
   "source": [
    "# set random seed\n",
    "np.random.seed(10)"
   ]
  },
  {
   "cell_type": "code",
   "execution_count": 3,
   "metadata": {},
   "outputs": [],
   "source": [
    "###############################################################################\n",
    "# Set up processed input directories\n",
    "###############################################################################"
   ]
  },
  {
   "cell_type": "code",
   "execution_count": 4,
   "metadata": {},
   "outputs": [],
   "source": [
    "# NOTE: The root repository directory is set for my laptop!\n",
    "#       Users may need to update the path below before running the code.\n",
    "\n",
    "# set path for repository root directory\n",
    "repo_root_path = \"C:/Users/Jonathon.Poage/Desktop/Springboard/Git_and_Github/Capstone_2_repo/\""
   ]
  },
  {
   "cell_type": "code",
   "execution_count": 5,
   "metadata": {},
   "outputs": [],
   "source": [
    "# set path for processed data directory\n",
    "processed_data_path = repo_root_path + \"data/processed/\"\n",
    "\n",
    "# make train validation test subdirectories\n",
    "train_dir = processed_data_path + \"train_data/\"\n",
    "validation_dir = processed_data_path + \"validation_data/\"\n",
    "test_dir = processed_data_path + \"test_data/\"\n",
    "\n",
    "# set image file subdirectory\n",
    "img_subdir = \"image_files/\""
   ]
  },
  {
   "cell_type": "code",
   "execution_count": null,
   "metadata": {},
   "outputs": [],
   "source": [
    "###############################################################################\n",
    "# Load processed data into dataframes\n",
    "###############################################################################"
   ]
  },
  {
   "cell_type": "code",
   "execution_count": null,
   "metadata": {},
   "outputs": [],
   "source": [
    "print(\"loading data\")"
   ]
  },
  {
   "cell_type": "code",
   "execution_count": 38,
   "metadata": {},
   "outputs": [
    {
     "name": "stdout",
     "output_type": "stream",
     "text": [
      "Wall time: 2min 28s\n"
     ]
    }
   ],
   "source": [
    "# load validation and test data\n",
    "df_val = pd.read_pickle(validation_dir + \"validation_data.pickle\")\n",
    "df_test = pd.read_pickle(test_dir + \"test_data.pickle\")\n",
    "\n",
    "# load the train data in parts\n",
    "train_data_files = glob(train_dir + \"train_data_part*.pickle\")\n",
    "df_train_parts = []\n",
    "\n",
    "for fn in train_data_files:\n",
    "    df_train_parts.append(pd.read_pickle(fn))\n",
    "    \n",
    "df_train = pd.concat(df_train_parts).sort_index()"
   ]
  },
  {
   "cell_type": "code",
   "execution_count": null,
   "metadata": {},
   "outputs": [],
   "source": [
    "###############################################################################\n",
    "# prepare features and target variables\n",
    "###############################################################################"
   ]
  },
  {
   "cell_type": "code",
   "execution_count": 39,
   "metadata": {},
   "outputs": [
    {
     "name": "stdout",
     "output_type": "stream",
     "text": [
      "<class 'pandas.core.frame.DataFrame'>\n",
      "RangeIndex: 3925 entries, 0 to 3924\n",
      "Data columns (total 3 columns):\n",
      "Image_file_base_path    3925 non-null object\n",
      "class                   3925 non-null object\n",
      "pixel_array             3925 non-null object\n",
      "dtypes: object(3)\n",
      "memory usage: 92.1+ KB\n"
     ]
    }
   ],
   "source": [
    "df_train.info()"
   ]
  },
  {
   "cell_type": "code",
   "execution_count": 46,
   "metadata": {},
   "outputs": [],
   "source": [
    "# make numpy arrays of dataset pixel intensities\n",
    "X_train = df_train.pixel_array.values"
   ]
  },
  {
   "cell_type": "code",
   "execution_count": 47,
   "metadata": {},
   "outputs": [
    {
     "data": {
      "text/plain": [
       "numpy.ndarray"
      ]
     },
     "execution_count": 47,
     "metadata": {},
     "output_type": "execute_result"
    }
   ],
   "source": [
    "type(X_train)"
   ]
  }
 ],
 "metadata": {
  "kernelspec": {
   "display_name": "Python (py36)",
   "language": "python",
   "name": "py36"
  },
  "language_info": {
   "codemirror_mode": {
    "name": "ipython",
    "version": 3
   },
   "file_extension": ".py",
   "mimetype": "text/x-python",
   "name": "python",
   "nbconvert_exporter": "python",
   "pygments_lexer": "ipython3",
   "version": "3.6.8"
  }
 },
 "nbformat": 4,
 "nbformat_minor": 2
}

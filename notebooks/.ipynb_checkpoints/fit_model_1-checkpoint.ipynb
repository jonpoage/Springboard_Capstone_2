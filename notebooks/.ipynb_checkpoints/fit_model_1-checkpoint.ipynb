{
 "cells": [
  {
   "cell_type": "code",
   "execution_count": null,
   "metadata": {},
   "outputs": [],
   "source": [
    "import pandas as pd\n",
    "import numpy as np\n",
    "import matplotlib.pyplot as plt\n",
    "import load_processed_data as ld\n",
    "import models as mdl\n",
    "import keras\n",
    "from definitions import PROCESSED_DATA_PATH, MODELS_PATH, FIGURE_OUTPUT_PATH\n",
    "from training_history_utils import plot_training_history\n",
    "from keras.preprocessing.image import ImageDataGenerator\n",
    "from keras.optimizers import Adam\n",
    "from keras.models import Sequential, Model\n",
    "from keras.applications import vgg16"
   ]
  },
  {
   "cell_type": "code",
   "execution_count": null,
   "metadata": {},
   "outputs": [],
   "source": [
    "# get model base\n",
    "base = mdl.get_my_conv_layers()\n",
    "\n",
    "# get input dimensions for classifier\n",
    "input_dim = base.output_shape[1]\n",
    "\n",
    "# get classifier\n",
    "clf = mdl.get_my_NN_classifier(input_dim=input_dim,\n",
    "                             n_output=3)"
   ]
  },
  {
   "cell_type": "code",
   "execution_count": null,
   "metadata": {},
   "outputs": [],
   "source": [
    "# instantiate model\n",
    "model = Sequential()\n",
    "\n",
    "# add base and classifier\n",
    "model.add(base)\n",
    "model.add(clf)\n",
    "\n",
    "# compile the model\n",
    "model.compile(optimizer=Adam(),\n",
    "              loss='categorical_crossentropy',\n",
    "              metrics=['accuracy'])"
   ]
  },
  {
   "cell_type": "code",
   "execution_count": null,
   "metadata": {},
   "outputs": [],
   "source": [
    "# load the train data\n",
    "X_train, y_train, _ = ld.load_train_data()\n",
    "\n",
    "# load the validation data\n",
    "X_val, y_val, _ = ld.load_validation_data()"
   ]
  },
  {
   "cell_type": "code",
   "execution_count": null,
   "metadata": {},
   "outputs": [],
   "source": [
    "# data generator batch size\n",
    "batch_size = 30\n",
    "\n",
    "# training data image generator\n",
    "train_datagen = ImageDataGenerator(rescale=1./255,\n",
    "                                   zoom_range=0.3,\n",
    "                                   rotation_range=10,\n",
    "                                   width_shift_range=0.2,\n",
    "                                   height_shift_range=0.2,\n",
    "                                   shear_range=0.1,\n",
    "                                   fill_mode='nearest')\n",
    "train_generator = train_datagen.flow(X_train,\n",
    "                                     y_train,\n",
    "                                     batch_size=batch_size,\n",
    "                                     seed=10)\n",
    "\n",
    "# validation data image generator\n",
    "val_datagen = ImageDataGenerator(rescale=1./255)\n",
    "val_generator = val_datagen.flow(X_val,\n",
    "                                 y_val,\n",
    "                                 batch_size=batch_size,\n",
    "                                 seed=10)"
   ]
  },
  {
   "cell_type": "code",
   "execution_count": null,
   "metadata": {},
   "outputs": [],
   "source": [
    "# save history\n",
    "history = model.fit_generator(train_generator,\n",
    "                              steps_per_epoch=np.ceil(X_train.shape[0] / batch_size),\n",
    "                              epochs=100,\n",
    "                              validation_data=val_generator,\n",
    "                              validation_steps=np.ceil(X_val.shape[0] / batch_size),\n",
    "                              verbose=1,\n",
    "                              class_weight=None)"
   ]
  },
  {
   "cell_type": "code",
   "execution_count": null,
   "metadata": {},
   "outputs": [],
   "source": [
    "# get training history figure\n",
    "fig = plot_training_history(history)\n",
    "\n",
    "# save figure to image file\n",
    "fig.savefig(FIGURE_OUTPUT_PATH + \"training_history_model_1.png\")"
   ]
  },
  {
   "cell_type": "code",
   "execution_count": null,
   "metadata": {},
   "outputs": [],
   "source": [
    "# save model to HDF5 file\n",
    "model.save(MODELS_PATH + 'model_1.h5')"
   ]
  }
 ],
 "metadata": {
  "kernelspec": {
   "display_name": "Python (py36)",
   "language": "python",
   "name": "py36"
  },
  "language_info": {
   "codemirror_mode": {
    "name": "ipython",
    "version": 3
   },
   "file_extension": ".py",
   "mimetype": "text/x-python",
   "name": "python",
   "nbconvert_exporter": "python",
   "pygments_lexer": "ipython3",
   "version": "3.6.8"
  }
 },
 "nbformat": 4,
 "nbformat_minor": 2
}

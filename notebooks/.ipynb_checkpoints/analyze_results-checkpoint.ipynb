{
 "cells": [
  {
   "cell_type": "code",
   "execution_count": 7,
   "metadata": {},
   "outputs": [],
   "source": [
    "import numpy as np\n",
    "import seaborn as sns\n",
    "import matplotlib.pyplot as plt\n",
    "import load_processed_data as ld\n",
    "import utils_model_evaluation as ume\n",
    "import os\n",
    "from definitions import MODELS_PATH, MODEL_NAMES, FIGURE_OUTPUT_PATH\n",
    "from keras.models import load_model\n",
    "from keras.applications.vgg16 import preprocess_input\n",
    "from sklearn.metrics import accuracy_score"
   ]
  },
  {
   "cell_type": "markdown",
   "metadata": {},
   "source": [
    "# Configuration"
   ]
  },
  {
   "cell_type": "code",
   "execution_count": 2,
   "metadata": {},
   "outputs": [],
   "source": [
    "# adjust seaborn font scale\n",
    "sns.set(font_scale=1.2)\n",
    "\n",
    "# set the best model key\n",
    "key_best_model = 2"
   ]
  },
  {
   "cell_type": "markdown",
   "metadata": {},
   "source": [
    "# Prepare Data"
   ]
  },
  {
   "cell_type": "code",
   "execution_count": 3,
   "metadata": {},
   "outputs": [
    {
     "name": "stdout",
     "output_type": "stream",
     "text": [
      "WARNING:tensorflow:From C:\\Users\\Jon\\Anaconda3\\envs\\py36\\lib\\site-packages\\tensorflow\\python\\framework\\op_def_library.py:263: colocate_with (from tensorflow.python.framework.ops) is deprecated and will be removed in a future version.\n",
      "Instructions for updating:\n",
      "Colocations handled automatically by placer.\n",
      "WARNING:tensorflow:From C:\\Users\\Jon\\Anaconda3\\envs\\py36\\lib\\site-packages\\keras\\backend\\tensorflow_backend.py:3445: calling dropout (from tensorflow.python.ops.nn_ops) with keep_prob is deprecated and will be removed in a future version.\n",
      "Instructions for updating:\n",
      "Please use `rate` instead of `keep_prob`. Rate should be set to `rate = 1 - keep_prob`.\n",
      "WARNING:tensorflow:From C:\\Users\\Jon\\Anaconda3\\envs\\py36\\lib\\site-packages\\tensorflow\\python\\ops\\math_ops.py:3066: to_int32 (from tensorflow.python.ops.math_ops) is deprecated and will be removed in a future version.\n",
      "Instructions for updating:\n",
      "Use tf.cast instead.\n"
     ]
    }
   ],
   "source": [
    "# load test data\n",
    "X, y_ohe, _ = ld.load_test_data()\n",
    "\n",
    "# create a 1-D array of class labels encoded as integers\n",
    "# NOTE: this implementation assumes y_ohe is correct without checking\n",
    "y_true = np.argmax(y_ohe,\n",
    "                   axis=1)\n",
    "\n",
    "# get list of class labels\n",
    "y_labels = ld.get_y_ohe_class_names()\n",
    "\n",
    "# load the best model\n",
    "mn = MODEL_NAMES[key_best_model]\n",
    "model_file_path = MODELS_PATH + mn + '.h5'\n",
    "m = load_model(model_file_path)\n",
    "\n",
    "# get model predictions\n",
    "if key_best_model in [2,3]:\n",
    "    X_preprocessed = preprocess_input(X)\n",
    "else:\n",
    "    X_preprocessed = X / 255.0\n",
    "y_pred = m.predict_classes(X_preprocessed)\n",
    "y_pred_proba = m.predict_proba(X_preprocessed)"
   ]
  },
  {
   "cell_type": "markdown",
   "metadata": {},
   "source": [
    "# Pneumonia vs Normal"
   ]
  },
  {
   "cell_type": "code",
   "execution_count": 4,
   "metadata": {},
   "outputs": [],
   "source": [
    "# create a 1-D array of encoded class labels for pneumonia vs normal\n",
    "ynp_true = (y_true != y_labels.index('normal')).astype(np.uint8)\n",
    "\n",
    "# class labels\n",
    "ynp_labels = ['normal', 'pneumonia']\n",
    "\n",
    "# predictions\n",
    "ynp_pred = (y_pred != y_labels.index('normal')).astype(np.uint8)\n",
    "ynp_pred_proba = np.stack((y_pred_proba[:, y_labels.index('normal')],\n",
    "                             y_pred_proba[:, y_labels.index('bacterial_pneumonia')]\n",
    "                             + y_pred_proba[:, y_labels.index('viral_pneumonia')]),\n",
    "                          axis=1)"
   ]
  },
  {
   "cell_type": "code",
   "execution_count": 5,
   "metadata": {},
   "outputs": [
    {
     "data": {
      "image/png": "[encoded data removed]",
      "text/plain": [
       "<Figure size 460.8x288 with 1 Axes>"
      ]
     },
     "metadata": {},
     "output_type": "display_data"
    }
   ],
   "source": [
    "# get confusion matrix\n",
    "df_np_cm = ume.get_confusion_matrix_df(y_true=ynp_true,\n",
    "                                       y_pred=ynp_pred,\n",
    "                                       y_labels=ynp_labels)\n",
    "\n",
    "# make heatmap of confusion matrix\n",
    "fig_np_cm = ume.get_confusion_matrix_heatmap_figure(df_np_cm)\n",
    "\n",
    "# save the heatmap figure\n",
    "heatmap_file_path = (FIGURE_OUTPUT_PATH\n",
    "                     + mn\n",
    "                     + '_normalVpneumonia_confusion_matrix_heatmap.png')\n",
    "if os.path.exists(heatmap_file_path):\n",
    "    os.remove(heatmap_file_path)\n",
    "fig_np_cm.savefig(heatmap_file_path,\n",
    "               bbox_inches='tight')"
   ]
  },
  {
   "cell_type": "code",
   "execution_count": 8,
   "metadata": {},
   "outputs": [
    {
     "data": {
      "image/png": "[encoded data removed]",
      "text/plain": [
       "<Figure size 460.8x288 with 1 Axes>"
      ]
     },
     "metadata": {},
     "output_type": "display_data"
    }
   ],
   "source": [
    "# get classification report\n",
    "df_np_cr = ume.get_classification_report_df(y_true=ynp_true,\n",
    "                                            y_pred=ynp_pred,\n",
    "                                            y_labels=ynp_labels)\n",
    "\n",
    "# get scores for Pneumonia\n",
    "df_p_scores = df_np_cr.loc['Pneumonia', 'f1-score':'recall']\n",
    "df_p_scores = df_p_scores.astype(str)\n",
    "\n",
    "# create a figure\n",
    "fig_np_cr = plt.figure(figsize=(6.4, 4))\n",
    "\n",
    "# get the figure's axis\n",
    "ax = fig_np_cr.gca()\n",
    "\n",
    "# do not display the axis\n",
    "ax.axis('off')\n",
    "\n",
    "# create a table from the pneumonia scores\n",
    "t = ax.table(cellText=list(zip(df_p_scores.index, df_p_scores.values)),\n",
    "             cellLoc='center',\n",
    "             loc='right',\n",
    "             bbox=[0.2, 0, 0.6, 1])\n",
    "\n",
    "for y in range(3):\n",
    "    t[y, 0].set_facecolor('#d1e5fa')  # light blue\n",
    "    t[y, 0].set_text_props(fontweight='bold')\n",
    "    \n",
    "# set number of digits to display\n",
    "for y in range(3):\n",
    "    t[y, 1].get_text().set_text('%.2f'\n",
    "                                % float(t[y, 1].get_text().get_text()))\n",
    "\n",
    "# set the font size\n",
    "t.auto_set_font_size(False)\n",
    "t.set_fontsize(14)\n",
    "\n",
    "# save the table figure\n",
    "table_file_path = (FIGURE_OUTPUT_PATH\n",
    "                   + mn\n",
    "                   + '_normalVpneumonia_classification_report.png')\n",
    "if os.path.exists(table_file_path):\n",
    "    os.remove(table_file_path)\n",
    "fig_np_cr.savefig(table_file_path,\n",
    "               bbox_inches='tight')"
   ]
  },
  {
   "cell_type": "code",
   "execution_count": null,
   "metadata": {},
   "outputs": [],
   "source": [
    "# TO DO: implement ROC curve and get ROC-AUC.  Also implement precision-recall curve and get AUC as well as average precision.\n",
    "# TO DO: implement loop over all 3 models, in order to make all output files for all 3 models."
   ]
  },
  {
   "cell_type": "markdown",
   "metadata": {},
   "source": [
    "# Bacterial vs Viral -- Conditional on Pneumonia"
   ]
  },
  {
   "cell_type": "code",
   "execution_count": null,
   "metadata": {},
   "outputs": [],
   "source": []
  },
  {
   "cell_type": "code",
   "execution_count": null,
   "metadata": {},
   "outputs": [],
   "source": []
  },
  {
   "cell_type": "code",
   "execution_count": null,
   "metadata": {},
   "outputs": [],
   "source": []
  }
 ],
 "metadata": {
  "kernelspec": {
   "display_name": "Python (py36)",
   "language": "python",
   "name": "py36"
  },
  "language_info": {
   "codemirror_mode": {
    "name": "ipython",
    "version": 3
   },
   "file_extension": ".py",
   "mimetype": "text/x-python",
   "name": "python",
   "nbconvert_exporter": "python",
   "pygments_lexer": "ipython3",
   "version": "3.6.8"
  }
 },
 "nbformat": 4,
 "nbformat_minor": 2
}

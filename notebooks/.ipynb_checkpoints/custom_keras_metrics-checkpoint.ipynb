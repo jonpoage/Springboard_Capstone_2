{
 "cells": [
  {
   "cell_type": "code",
   "execution_count": 8,
   "metadata": {},
   "outputs": [],
   "source": [
    "import numpy as np\n",
    "from keras.callbacks import Callback\n",
    "import sklearn.metrics as metrics"
   ]
  },
  {
   "cell_type": "code",
   "execution_count": 20,
   "metadata": {},
   "outputs": [],
   "source": [
    "# define custom metrics class\n",
    "class Custom_Metrics(Callback):\n",
    "    \n",
    "    def __init__(self, averaging='binary', p_threshold=0.5):\n",
    "        self.averaging = averaging\n",
    "        self.p_threshold = p_threshold\n",
    "    \n",
    "    def on_train_begin(self, logs={}):\n",
    "        # initialize lists for metrics\n",
    "        self.precisions = []\n",
    "        self.recalls = []\n",
    "        self.f1s = []\n",
    "        \n",
    "    def on_epoch_end(self, epoch, logs={}):\n",
    "        # get predicted values\n",
    "        y_pred_probas = np.asarray(self.model.predict(self.model.validation_data[0]))\n",
    "        y_pred = (y_pred_probas >= self.p_threshold).astype('int')\n",
    "        \n",
    "        # get true values\n",
    "        y_true = self.model.validation_data[1]\n",
    "        \n",
    "        # evaluate metrics for epoch\n",
    "        _precision = metrics.precision_score(y_true, y_pred, average=self.averaging)\n",
    "        _recall = metrics.recall_score(y_true, y_pred, average=self.averaging)\n",
    "        _f1 = metrics.f1_score(y_true, y_pred, average=self.averaging)\n",
    "        \n",
    "        # print summary for epoch\n",
    "        print(\" - precision: %f    - recall: %f    -f1 score: %f\"\n",
    "             % (_precision, _recall, _f1))\n",
    "        \n",
    "        # append epoch metrics to summary lists\n",
    "        self.precisions.append(_precision)\n",
    "        self.recalls.append(_recall)\n",
    "        self.f1s.append(_f1) \n",
    "        \n",
    "        # return nothing\n",
    "        return"
   ]
  }
 ],
 "metadata": {
  "kernelspec": {
   "display_name": "Python (py36)",
   "language": "python",
   "name": "py36"
  },
  "language_info": {
   "codemirror_mode": {
    "name": "ipython",
    "version": 3
   },
   "file_extension": ".py",
   "mimetype": "text/x-python",
   "name": "python",
   "nbconvert_exporter": "python",
   "pygments_lexer": "ipython3",
   "version": "3.6.8"
  }
 },
 "nbformat": 4,
 "nbformat_minor": 2
}

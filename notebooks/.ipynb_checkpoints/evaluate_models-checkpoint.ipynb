{
 "cells": [
  {
   "cell_type": "code",
   "execution_count": 1,
   "metadata": {},
   "outputs": [
    {
     "name": "stderr",
     "output_type": "stream",
     "text": [
      "Using TensorFlow backend.\n"
     ]
    }
   ],
   "source": [
    "import numpy as np\n",
    "import pandas as pd\n",
    "import seaborn as sns\n",
    "import matplotlib.pyplot as plt\n",
    "import matplotlib.patches as patches\n",
    "import load_processed_data as ld\n",
    "from collections import defaultdict\n",
    "from decimal import Decimal\n",
    "from definitions import MODELS_PATH, MODEL_NAMES\n",
    "from sklearn import metrics\n",
    "from keras.models import load_model"
   ]
  },
  {
   "cell_type": "code",
   "execution_count": 9,
   "metadata": {},
   "outputs": [
    {
     "name": "stdout",
     "output_type": "stream",
     "text": [
      "WARNING:tensorflow:From C:\\Users\\Jon\\Anaconda3\\envs\\py36\\lib\\site-packages\\tensorflow\\python\\framework\\op_def_library.py:263: colocate_with (from tensorflow.python.framework.ops) is deprecated and will be removed in a future version.\n",
      "Instructions for updating:\n",
      "Colocations handled automatically by placer.\n",
      "WARNING:tensorflow:From C:\\Users\\Jon\\Anaconda3\\envs\\py36\\lib\\site-packages\\keras\\backend\\tensorflow_backend.py:3445: calling dropout (from tensorflow.python.ops.nn_ops) with keep_prob is deprecated and will be removed in a future version.\n",
      "Instructions for updating:\n",
      "Please use `rate` instead of `keep_prob`. Rate should be set to `rate = 1 - keep_prob`.\n",
      "WARNING:tensorflow:From C:\\Users\\Jon\\Anaconda3\\envs\\py36\\lib\\site-packages\\tensorflow\\python\\ops\\math_ops.py:3066: to_int32 (from tensorflow.python.ops.math_ops) is deprecated and will be removed in a future version.\n",
      "Instructions for updating:\n",
      "Use tf.cast instead.\n"
     ]
    }
   ],
   "source": [
    "# model file pathnames\n",
    "model_file_paths = {k: MODELS_PATH + v + '.h5' for k, v in MODEL_NAMES.items()}\n",
    "\n",
    "# load models\n",
    "models = {k: load_model(v) for k, v in model_file_paths.items()}\n",
    "\n",
    "# get model 1\n",
    "#m = models[1]"
   ]
  },
  {
   "cell_type": "code",
   "execution_count": null,
   "metadata": {},
   "outputs": [],
   "source": [
    "# load test data\n",
    "X, y_ohe, _ = ld.load_test_data()\n",
    "\n",
    "# convert y_ohe to a single column of encoded class labels\n",
    "# NOTE: this implementation assumes y_ohe is correct without checking\n",
    "y_true = np.argmax(y_ohe,\n",
    "                   axis=1)\n",
    "\n",
    "# get class labels\n",
    "y_labels = ld.get_y_ohe_class_names()\n",
    "\n",
    "# get model predictions\n",
    "y_pred = m.predict_classes(X/255.)"
   ]
  },
  {
   "cell_type": "code",
   "execution_count": null,
   "metadata": {},
   "outputs": [],
   "source": [
    "# get confusion matrix\n",
    "df_cm = \n",
    "\n",
    "# save confusion matrix figure\n",
    "fig = \n",
    "# save the figure\n",
    "#fig.savefig('test.png',\n",
    "#            bbox_inches='tight')"
   ]
  }
 ],
 "metadata": {
  "kernelspec": {
   "display_name": "Python (py36)",
   "language": "python",
   "name": "py36"
  },
  "language_info": {
   "codemirror_mode": {
    "name": "ipython",
    "version": 3
   },
   "file_extension": ".py",
   "mimetype": "text/x-python",
   "name": "python",
   "nbconvert_exporter": "python",
   "pygments_lexer": "ipython3",
   "version": "3.6.8"
  }
 },
 "nbformat": 4,
 "nbformat_minor": 2
}

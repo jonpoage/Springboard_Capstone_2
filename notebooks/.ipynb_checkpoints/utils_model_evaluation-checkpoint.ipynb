{
 "cells": [
  {
   "cell_type": "code",
   "execution_count": 113,
   "metadata": {},
   "outputs": [],
   "source": [
    "import numpy as np\n",
    "import pandas as pd\n",
    "import matplotlib.pyplot as plt\n",
    "import matplotlib.patches as patches\n",
    "import load_processed_data as ld\n",
    "from definitions import MODELS_PATH\n",
    "from sklearn import metrics\n",
    "from keras.models import load_model"
   ]
  },
  {
   "cell_type": "code",
   "execution_count": 2,
   "metadata": {},
   "outputs": [
    {
     "name": "stdout",
     "output_type": "stream",
     "text": [
      "WARNING:tensorflow:From C:\\Users\\Jon\\Anaconda3\\envs\\py36\\lib\\site-packages\\tensorflow\\python\\framework\\op_def_library.py:263: colocate_with (from tensorflow.python.framework.ops) is deprecated and will be removed in a future version.\n",
      "Instructions for updating:\n",
      "Colocations handled automatically by placer.\n",
      "WARNING:tensorflow:From C:\\Users\\Jon\\Anaconda3\\envs\\py36\\lib\\site-packages\\keras\\backend\\tensorflow_backend.py:3445: calling dropout (from tensorflow.python.ops.nn_ops) with keep_prob is deprecated and will be removed in a future version.\n",
      "Instructions for updating:\n",
      "Please use `rate` instead of `keep_prob`. Rate should be set to `rate = 1 - keep_prob`.\n",
      "WARNING:tensorflow:From C:\\Users\\Jon\\Anaconda3\\envs\\py36\\lib\\site-packages\\tensorflow\\python\\ops\\math_ops.py:3066: to_int32 (from tensorflow.python.ops.math_ops) is deprecated and will be removed in a future version.\n",
      "Instructions for updating:\n",
      "Use tf.cast instead.\n"
     ]
    }
   ],
   "source": [
    "# model file pathname\n",
    "model_file_path = MODELS_PATH + 'model_myCNNbase_myNNclf.h5'\n",
    "\n",
    "# load model\n",
    "m = load_model(model_file_path)"
   ]
  },
  {
   "cell_type": "code",
   "execution_count": 3,
   "metadata": {},
   "outputs": [],
   "source": [
    "# load test data\n",
    "X, y_ohe, _ = ld.load_test_data()\n",
    "\n",
    "# convert y_ohe to a single column of encoded class labels\n",
    "# NOTE: this implementation assumes y_ohe is correct without checking\n",
    "y_true = np.argmax(y_ohe,\n",
    "                   axis=1)\n",
    "\n",
    "# get class labels\n",
    "y_labels = ld.get_y_ohe_class_names()\n",
    "\n",
    "# get class names in a format that is presentable\n",
    "y_class_titles = [s.replace('_',' ').title() for s in y_labels]\n",
    "\n",
    "# get model predictions\n",
    "y_pred = m.predict_classes(X/255.)\n",
    "y_pred_proba = m.predict_proba(X/255.)"
   ]
  },
  {
   "cell_type": "markdown",
   "metadata": {},
   "source": [
    "# Confusion Matrix"
   ]
  },
  {
   "cell_type": "code",
   "execution_count": 4,
   "metadata": {},
   "outputs": [],
   "source": [
    "# confusion matrix\n",
    "cm = metrics.confusion_matrix(y_true, y_pred)"
   ]
  },
  {
   "cell_type": "code",
   "execution_count": 5,
   "metadata": {},
   "outputs": [],
   "source": [
    "# set MultiIndex index and columns\n",
    "index = pd.MultiIndex.from_product([['Actual Class'],\n",
    "                                   y_class_titles])\n",
    "columns = pd.MultiIndex.from_product([['Predicted Class'],\n",
    "                                     y_class_titles])\n",
    "\n",
    "# dataframe with the confusion matrix\n",
    "df_cm = pd.DataFrame(data=cm,\n",
    "                     index=index,\n",
    "                     columns=columns)"
   ]
  },
  {
   "cell_type": "code",
   "execution_count": 124,
   "metadata": {},
   "outputs": [
    {
     "data": {
      "image/png": "[encoded data removed]",
      "text/plain": [
       "<Figure size 460.8x288 with 1 Axes>"
      ]
     },
     "metadata": {
      "needs_background": "light"
     },
     "output_type": "display_data"
    }
   ],
   "source": [
    "# create a figure\n",
    "fig = plt.figure(figsize=(6.4, 4))\n",
    "\n",
    "# get the figure's axis\n",
    "ax = fig.gca()\n",
    "\n",
    "# do not display the axis\n",
    "ax.axis('off')\n",
    "\n",
    "# create a table from the pivot table\n",
    "t = ax.table(cellText=df_cm.values,\n",
    "             cellLoc='center',\n",
    "             rowLabels=df_cm.index.get_level_values(1),\n",
    "             colLabels=df_cm.columns.get_level_values(1).str.replace(' ','\\n'),\n",
    "             loc='right',\n",
    "             bbox=[0, 0, 1, 1])\n",
    "\n",
    "ax.text(0.5, 1.05, s='Predicted Class', fontweight='bold', fontsize=14, ha='center', va='center')\n",
    "ax.text(-0.5, 0.375, s='Actual Class', fontweight='bold', fontsize=14, ha='center', va='center', rotation=90)\n",
    "\n",
    "\n",
    "# format the cells\n",
    "for x in range(3):\n",
    "    t[0, x].set_facecolor('#ffdccc')  # light orange\n",
    "    t[0, x].set_text_props(fontweight='bold')\n",
    "\n",
    "for y in np.arange(1, 4):\n",
    "    t[y, -1].set_facecolor('#d1e5fa')  # light blue\n",
    "    t[y, -1].set_text_props(fontweight='bold')\n",
    "\n",
    "# set the font size\n",
    "t.auto_set_font_size(False)\n",
    "t.set_fontsize(12)\n",
    "\n",
    "#fig.savefig('test.png', bbox_inches='tight')"
   ]
  }
 ],
 "metadata": {
  "kernelspec": {
   "display_name": "Python (py36)",
   "language": "python",
   "name": "py36"
  },
  "language_info": {
   "codemirror_mode": {
    "name": "ipython",
    "version": 3
   },
   "file_extension": ".py",
   "mimetype": "text/x-python",
   "name": "python",
   "nbconvert_exporter": "python",
   "pygments_lexer": "ipython3",
   "version": "3.6.8"
  }
 },
 "nbformat": 4,
 "nbformat_minor": 2
}

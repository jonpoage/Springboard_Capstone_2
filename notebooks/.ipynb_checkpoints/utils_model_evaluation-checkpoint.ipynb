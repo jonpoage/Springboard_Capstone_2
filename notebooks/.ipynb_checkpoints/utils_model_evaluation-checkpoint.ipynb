{
 "cells": [
  {
   "cell_type": "code",
   "execution_count": 1,
   "metadata": {},
   "outputs": [
    {
     "name": "stderr",
     "output_type": "stream",
     "text": [
      "Using TensorFlow backend.\n"
     ]
    }
   ],
   "source": [
    "import numpy as np\n",
    "import pandas as pd\n",
    "import seaborn as sns\n",
    "import matplotlib.pyplot as plt\n",
    "import matplotlib.patches as patches\n",
    "import load_processed_data as ld\n",
    "from collections import defaultdict\n",
    "from decimal import Decimal\n",
    "from definitions import MODELS_PATH\n",
    "from sklearn import metrics\n",
    "from keras.models import load_model"
   ]
  },
  {
   "cell_type": "code",
   "execution_count": 5,
   "metadata": {},
   "outputs": [],
   "source": [
    "def get_confusion_matrix_df(y_true, y_pred, y_labels):\n",
    "    \"\"\"This function creates a confusion matrix.\n",
    "    \n",
    "    Input arguments:\n",
    "        y_true - 1-D Array of true encoded target values.\n",
    "        y_pred - 1-D Array of predicted encoded target values.\n",
    "        y_labels - List of class names.\n",
    "        \n",
    "    This function returns a DataFrame object.\"\"\"\n",
    "\n",
    "    # get class names in a format that is presentable\n",
    "    y_class_titles = [s.replace('_',' ').title() for s in y_labels]\n",
    "    \n",
    "    # confusion matrix\n",
    "    cm = metrics.confusion_matrix(y_true, y_pred)\n",
    "\n",
    "    # dataframe with the confusion matrix\n",
    "    df_cm = pd.DataFrame(data=cm,\n",
    "                         index=y_class_titles,\n",
    "                         columns=y_class_titles)\n",
    "\n",
    "    # set index name and column name\n",
    "    df_cm.index.name = 'Actual Class'\n",
    "    df_cm.columns.name = 'Predicted Class'\n",
    "    \n",
    "    # return the dataframe\n",
    "    return df_cm"
   ]
  },
  {
   "cell_type": "code",
   "execution_count": 17,
   "metadata": {},
   "outputs": [
    {
     "data": {
      "image/png": "[encoded data removed]",
      "text/plain": [
       "<Figure size 460.8x288 with 1 Axes>"
      ]
     },
     "metadata": {},
     "output_type": "display_data"
    }
   ],
   "source": [
    "def get_confusion_matrix_heatmap_figure(df_cm):\n",
    "    \"\"\"This function creates a heatmap of a confusion matrix.\n",
    "    \n",
    "    Input arguments:\n",
    "        df_cm - DataFrame with the confusion matrix.\n",
    "        \n",
    "    This function returns a Figure object.\"\"\"\n",
    "    \n",
    "    # create a figure\n",
    "    fig = plt.figure(figsize=(6.4, 4))\n",
    "\n",
    "    # get the figure's axis\n",
    "    ax = fig.gca()\n",
    "\n",
    "    # set seaborn font scale\n",
    "    sns.set(font_scale=1.2)\n",
    "\n",
    "    # plot heatmap\n",
    "    ax = sns.heatmap(df_cm,\n",
    "                     annot=True,\n",
    "                     fmt=\".0f\",\n",
    "                     cbar=False,\n",
    "                     cmap='Blues',\n",
    "                     vmin=0,\n",
    "                     vmax=df_cm.sum(axis=1).max())\n",
    "\n",
    "    # move xaxis ticks and labels to top\n",
    "    ax.xaxis.set_ticks_position('top')\n",
    "    ax.xaxis.set_label_position('top')\n",
    "    \n",
    "    # return the figure\n",
    "    return fig"
   ]
  },
  {
   "cell_type": "code",
   "execution_count": 14,
   "metadata": {},
   "outputs": [],
   "source": [
    "def get_classification_report_df(y_true, y_pred, y_labels)\n",
    "    \"\"\"This function creates a classification report.\n",
    "    \n",
    "    Input arguments:\n",
    "        y_true - 1-D Array of true encoded target values.\n",
    "        y_pred - 1-D Array of predicted encoded target values.\n",
    "        y_labels - List of class names.\n",
    "        \n",
    "    This function returns a DataFrame object.\"\"\"\n",
    "\n",
    "    # get class names in a format that is presentable\n",
    "    y_class_titles = [s.replace('_',' ').title() for s in y_labels]\n",
    "    \n",
    "    # make a classification report\n",
    "    report = metrics.classification_report(y_true,\n",
    "                                           y_pred,\n",
    "                                           target_names=y_class_titles,\n",
    "                                           output_dict=True)\n",
    "\n",
    "    # make a dataframe with the classification report\n",
    "    df_report = pd.DataFrame(report).transpose()\n",
    "\n",
    "    # rename the averages to be presentable\n",
    "    index_map = {'micro avg':'Micro Average',\n",
    "                 'macro avg': 'Macro Average',\n",
    "                 'weighted avg': 'Weighted Average'}\n",
    "    df_report.rename(index=index_map,\n",
    "                     inplace=True)\n",
    "    \n",
    "    # return the dataframe\n",
    "    return df_report"
   ]
  },
  {
   "cell_type": "code",
   "execution_count": 58,
   "metadata": {},
   "outputs": [],
   "source": [
    "def get_classification_report_figure(df_report):\n",
    "    \"\"\"This function creates a table of a classification report.\n",
    "    \n",
    "    Input arguments:\n",
    "        df_report - DataFrame with the classification report.\n",
    "        \n",
    "    This function returns a Figure object.\"\"\"\n",
    "    \n",
    "    # create a figure\n",
    "    fig = plt.figure(figsize=(6.4, 4))\n",
    "\n",
    "    # get the figure's axis\n",
    "    ax = fig.gca()\n",
    "\n",
    "    # do not display the axis\n",
    "    ax.axis('off')\n",
    "\n",
    "    # create a table from the pivot table\n",
    "    t = ax.table(cellText=df_report.values,\n",
    "                 cellLoc='center',\n",
    "                 rowLabels=df_report.index,\n",
    "                 colLabels=df_report.columns,\n",
    "                 loc='right',\n",
    "                 bbox=[0, 0, 1, 1])\n",
    "\n",
    "    # format the cells\n",
    "    for x in range(4):\n",
    "        t[0, x].set_facecolor('#ffdccc')  # light orange\n",
    "        t[0, x].set_text_props(fontweight='bold')  \n",
    "        \n",
    "    for y in np.arange(1, 4):\n",
    "        t[y, -1].set_facecolor('#d1e5fa')  # light blue\n",
    "        t[y, -1].set_text_props(fontweight='bold')\n",
    "\n",
    "    for y in np.arange(4, 7):\n",
    "        t[y, -1].set_facecolor('#8cbef2')  # blue\n",
    "        t[y, -1].set_text_props(fontweight='bold')\n",
    "        \n",
    "    # set number of digits to display\n",
    "    for y in range(1, 7):\n",
    "        t[y, 3].get_text().set_text(t[y, 3].get_text().get_text().split('.')[0])\n",
    "        for x in range(3):\n",
    "            t[y, x].get_text().set_text(str(round(float(t[y, x].get_text().get_text()),2)))\n",
    "        \n",
    "    # set the font size\n",
    "    t.auto_set_font_size(False)\n",
    "    t.set_fontsize(12)\n",
    "\n",
    "    # return the figure\n",
    "    return fig"
   ]
  }
 ],
 "metadata": {
  "kernelspec": {
   "display_name": "Python (py36)",
   "language": "python",
   "name": "py36"
  },
  "language_info": {
   "codemirror_mode": {
    "name": "ipython",
    "version": 3
   },
   "file_extension": ".py",
   "mimetype": "text/x-python",
   "name": "python",
   "nbconvert_exporter": "python",
   "pygments_lexer": "ipython3",
   "version": "3.6.8"
  }
 },
 "nbformat": 4,
 "nbformat_minor": 2
}

{
 "cells": [
  {
   "cell_type": "code",
   "execution_count": 1,
   "metadata": {},
   "outputs": [
    {
     "name": "stderr",
     "output_type": "stream",
     "text": [
      "Using TensorFlow backend.\n"
     ]
    },
    {
     "name": "stdout",
     "output_type": "stream",
     "text": [
      "WARNING:tensorflow:From C:\\Users\\Jon\\Anaconda3\\envs\\py36\\lib\\site-packages\\tensorflow\\python\\framework\\op_def_library.py:263: colocate_with (from tensorflow.python.framework.ops) is deprecated and will be removed in a future version.\n",
      "Instructions for updating:\n",
      "Colocations handled automatically by placer.\n"
     ]
    }
   ],
   "source": [
    "import models as mdl\n",
    "import utils_model_fitting as umf\n",
    "import utils_training_history as uth\n",
    "import os\n",
    "from definitions import MODELS_PATH, FIGURE_OUTPUT_PATH\n",
    "from keras.optimizers import Adam"
   ]
  },
  {
   "cell_type": "code",
   "execution_count": null,
   "metadata": {},
   "outputs": [],
   "source": [
    "# set model name\n",
    "model_name = 'model_FROZENvgg16base_myNNclf'\n",
    "\n",
    "# get model base\n",
    "base = mdl.get_vgg16_frozen()\n",
    "\n",
    "# get input dimensions for classifier\n",
    "input_dim = base.output_shape[1]\n",
    "\n",
    "# get classifier\n",
    "clf = mdl.get_my_NN_classifier(input_dim=input_dim,\n",
    "                               n_output=3)\n"
   ]
  },
  {
   "cell_type": "code",
   "execution_count": null,
   "metadata": {},
   "outputs": [],
   "source": [
    "# compile the model\n",
    "model = umf.compile_model(base=base,\n",
    "                          classifier=clf,\n",
    "                          loss='categorical_crossentropy',\n",
    "                          optimizer=Adam(lr=2e-5),\n",
    "                          metrics=['accuracy'])\n",
    "\n",
    "# pathname for output model file\n",
    "output_HDF5_file_path = MODELS_PATH + model_name + '.h5'\n",
    "if os.path.exists(output_HDF5_file_path):\n",
    "    os.remove(output_HDF5_file_path)\n",
    "\n",
    "# train the model\n",
    "history = umf.fit_and_save_model(model,\n",
    "                                 output_file_path=output_HDF5_file_path,\n",
    "                                 batch_size=30,\n",
    "                                 class_weight=None)\n",
    "\n",
    "# pathname for output image file\n",
    "output_png_file_path = FIGURE_OUTPUT_PATH + model_name \\\n",
    "                       + '_training_history_plots.png'\n",
    "if os.path.exists(output_png_file_path):\n",
    "    os.remove(output_png_file_path)\n",
    "\n",
    "# save figure of training history losses and accuracies\n",
    "uth.save_training_history_plots(history,\n",
    "                                output_file_path=output_png_file_path)\n"
   ]
  }
 ],
 "metadata": {
  "kernelspec": {
   "display_name": "Python (py36)",
   "language": "python",
   "name": "py36"
  },
  "language_info": {
   "codemirror_mode": {
    "name": "ipython",
    "version": 3
   },
   "file_extension": ".py",
   "mimetype": "text/x-python",
   "name": "python",
   "nbconvert_exporter": "python",
   "pygments_lexer": "ipython3",
   "version": "3.6.8"
  }
 },
 "nbformat": 4,
 "nbformat_minor": 2
}

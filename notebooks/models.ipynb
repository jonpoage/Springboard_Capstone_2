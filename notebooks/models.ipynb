{
 "cells": [
  {
   "cell_type": "code",
   "execution_count": 1,
   "metadata": {},
   "outputs": [
    {
     "name": "stderr",
     "output_type": "stream",
     "text": [
      "Using TensorFlow backend.\n"
     ]
    }
   ],
   "source": [
    "from keras.layers import Conv2D, MaxPooling2D, Flatten, Dense, Dropout\n",
    "from keras.models import Sequential, Model\n",
    "from keras.applications import vgg16\n",
    "from keras import optimizers"
   ]
  },
  {
   "cell_type": "code",
   "execution_count": 2,
   "metadata": {},
   "outputs": [],
   "source": [
    "input_shape = (224, 224, 3)\n",
    "kernel_size = (3, 3)\n",
    "pool_size = (2, 2)"
   ]
  },
  {
   "cell_type": "code",
   "execution_count": 3,
   "metadata": {},
   "outputs": [],
   "source": [
    "def get_my_NN_classifier(input_dim, activation='relu', rate=0.3):\n",
    "    my_NN_classifier = Sequential()\n",
    "    \n",
    "    my_NN_classifier.add(Dense(512, activation=activation, input_dim=input_dim))\n",
    "    my_NN_classifier.add(Dropout(rate=rate))\n",
    "\n",
    "    my_NN_classifier.add(Dense(512, activation=activation))\n",
    "    my_NN_classifier.add(Dropout(rate=rate))\n",
    "    \n",
    "    my_NN_classifier.add(Dense(3, activation='softmax'))\n",
    "    \n",
    "    return my_NN_classifier"
   ]
  },
  {
   "cell_type": "code",
   "execution_count": 4,
   "metadata": {},
   "outputs": [],
   "source": [
    "def get_my_conv_layers(input_shape=(224, 224, 3), kernel_size=(3, 3), pool_size=(2, 2), activation='relu'):\n",
    "    my_conv_layers = Sequential()\n",
    "\n",
    "    my_conv_layers.add(Conv2D(32, kernel_size=kernel_size, activation=activation, input_shape=input_shape))\n",
    "    my_conv_layers.add(MaxPooling2D(pool_size=pool_size))\n",
    "\n",
    "    my_conv_layers.add(Conv2D(64, kernel_size=kernel_size, activation=activation))\n",
    "    my_conv_layers.add(MaxPooling2D(pool_size=pool_size))\n",
    "\n",
    "    my_conv_layers.add(Conv2D(128, kernel_size=kernel_size, activation=activation))\n",
    "    my_conv_layers.add(MaxPooling2D(pool_size=pool_size))\n",
    "\n",
    "    my_conv_layers.add(Conv2D(128, kernel_size=kernel_size, activation=activation))\n",
    "    my_conv_layers.add(MaxPooling2D(pool_size=pool_size))\n",
    "\n",
    "    my_conv_layers.add(Flatten())\n",
    "    \n",
    "    return my_conv_layers"
   ]
  },
  {
   "cell_type": "code",
   "execution_count": 5,
   "metadata": {},
   "outputs": [],
   "source": [
    "def get_vgg16_model(input_shape=(224, 224, 3)):\n",
    "    vgg = vgg16.VGG16(include_top=False, weights='imagenet', input_shape=input_shape)\n",
    "\n",
    "    # add a flatten layer\n",
    "    output = vgg.layers[-1].output\n",
    "    output = Flatten()(output)\n",
    "    vgg_model = Model(vgg.input, output)\n",
    "\n",
    "    return vgg_model"
   ]
  },
  {
   "cell_type": "code",
   "execution_count": 9,
   "metadata": {},
   "outputs": [],
   "source": [
    "def get_vgg16_frozen(input_shape=(224, 224, 3)):\n",
    "    vgg_model_frozen = get_vgg16_model(input_shape=input_shape)\n",
    "\n",
    "    # freeze all layers\n",
    "    vgg_model_frozen.trainable = False\n",
    "    for layer in vgg_model_frozen.layers:\n",
    "        layer.trainable = False\n",
    "\n",
    "    return vgg_model_frozen"
   ]
  },
  {
   "cell_type": "code",
   "execution_count": 26,
   "metadata": {},
   "outputs": [],
   "source": [
    "def get_vgg16_fine_tuning(input_shape=(224, 224, 3), idx_first_trainable_layer=11):\n",
    "    vgg_model_fine_tuning = get_vgg16_model(input_shape=input_shape)\n",
    "\n",
    "    # freeze top layers only\n",
    "    vgg_model_fine_tuning.trainable = True\n",
    "    for idx_layer, layer in enumerate(vgg_model_fine_tuning.layers):\n",
    "        if idx_layer < idx_first_trainable_layer:\n",
    "            layer.trainable = False\n",
    "        elif idx_layer >= idx_first_trainable_layer:\n",
    "            layer.trainable = True\n",
    "        else:\n",
    "            raise Exception(\"Cannot Freeze VGG16 layers! Invalid layer index.\")\n",
    "\n",
    "    return vgg_model_fine_tuning"
   ]
  }
 ],
 "metadata": {
  "kernelspec": {
   "display_name": "Python (py36)",
   "language": "python",
   "name": "py36"
  },
  "language_info": {
   "codemirror_mode": {
    "name": "ipython",
    "version": 3
   },
   "file_extension": ".py",
   "mimetype": "text/x-python",
   "name": "python",
   "nbconvert_exporter": "python",
   "pygments_lexer": "ipython3",
   "version": "3.6.8"
  }
 },
 "nbformat": 4,
 "nbformat_minor": 2
}

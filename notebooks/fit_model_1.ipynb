{
 "cells": [
  {
   "cell_type": "code",
   "execution_count": 19,
   "metadata": {},
   "outputs": [],
   "source": [
    "import pandas as pd\n",
    "import numpy as np\n",
    "import matplotlib.pyplot as plt\n",
    "import load_processed_data as ld\n",
    "import models as mdl\n",
    "from definitions import PROCESSED_DATA_PATH, MODELS_PATH\n",
    "import keras\n",
    "from keras.optimizers import Adam\n",
    "from keras.models import Sequential, Model\n",
    "from keras.applications import vgg16"
   ]
  },
  {
   "cell_type": "markdown",
   "metadata": {},
   "source": [
    "# Configuration"
   ]
  },
  {
   "cell_type": "code",
   "execution_count": 20,
   "metadata": {},
   "outputs": [],
   "source": [
    "# define output dimensions for classifier\n",
    "n_output = 3\n",
    "\n",
    "# loss metric for model fitting\n",
    "loss = 'categorical_crossentropy'\n",
    "\n",
    "# optimizer for model fitting\n",
    "optimizer = Adam\n",
    "\n",
    "# metrics for model fitting\n",
    "metrics = ['accuracy']"
   ]
  },
  {
   "cell_type": "markdown",
   "metadata": {},
   "source": [
    "# Create Model"
   ]
  },
  {
   "cell_type": "code",
   "execution_count": 17,
   "metadata": {},
   "outputs": [],
   "source": [
    "# get model base\n",
    "base = mdl.get_my_conv_layers()\n",
    "\n",
    "# get input dimensions for classifier\n",
    "input_dim = base.output_shape[1]\n",
    "\n",
    "# get classifier\n",
    "clf = mdl.get_my_NN_classifier(input_dim=input_dim,\n",
    "                             n_output=n_output)"
   ]
  },
  {
   "cell_type": "code",
   "execution_count": 18,
   "metadata": {},
   "outputs": [],
   "source": [
    "# instantiate model\n",
    "model = Sequential()\n",
    "\n",
    "# add base and classifier\n",
    "model.add(base)\n",
    "model.add(clf)\n",
    "\n",
    "# compile the model\n"
   ]
  },
  {
   "cell_type": "markdown",
   "metadata": {},
   "source": [
    "# Load Data"
   ]
  },
  {
   "cell_type": "code",
   "execution_count": 15,
   "metadata": {},
   "outputs": [],
   "source": [
    "# load the train data\n",
    "X_train, y_train, _ = ld.load_train_data()\n",
    "\n",
    "# load the validation data\n",
    "X_val, y_val, _ = ld.load_validation_data()"
   ]
  },
  {
   "cell_type": "markdown",
   "metadata": {},
   "source": [
    "# Train the model"
   ]
  },
  {
   "cell_type": "code",
   "execution_count": null,
   "metadata": {},
   "outputs": [],
   "source": []
  }
 ],
 "metadata": {
  "kernelspec": {
   "display_name": "Python (py36)",
   "language": "python",
   "name": "py36"
  },
  "language_info": {
   "codemirror_mode": {
    "name": "ipython",
    "version": 3
   },
   "file_extension": ".py",
   "mimetype": "text/x-python",
   "name": "python",
   "nbconvert_exporter": "python",
   "pygments_lexer": "ipython3",
   "version": "3.6.8"
  }
 },
 "nbformat": 4,
 "nbformat_minor": 2
}

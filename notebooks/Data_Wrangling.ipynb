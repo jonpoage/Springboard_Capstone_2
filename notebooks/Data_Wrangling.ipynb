{
 "cells": [
  {
   "cell_type": "code",
   "execution_count": null,
   "metadata": {},
   "outputs": [],
   "source": [
    "from glob import glob\n",
    "import numpy as np\n",
    "import os\n",
    "import shutil"
   ]
  },
  {
   "cell_type": "code",
   "execution_count": null,
   "metadata": {},
   "outputs": [],
   "source": [
    "# set random seed\n",
    "np.random.seed(10)"
   ]
  },
  {
   "cell_type": "code",
   "execution_count": null,
   "metadata": {},
   "outputs": [],
   "source": [
    "# NOTE: all file and directory paths below are set for my laptop!\n",
    "#       Users may need to update the paths before running the code."
   ]
  },
  {
   "cell_type": "code",
   "execution_count": null,
   "metadata": {},
   "outputs": [],
   "source": [
    "# set path for raw data directory\n",
    "raw_data_path = \"C:/Users/Jonathon.Poage/Desktop/Springboard/Git_and_Github/Capstone_2_repo/data/raw/\"\n",
    "\n",
    "# load test data files\n",
    "raw_test_files = glob(raw_data_path + \"chest_xray/test/*/*.jpeg\")\n",
    "\n",
    "# load training data files\n",
    "raw_train_files = glob(raw_data_path + \"chest_xray/train/*/*.jpeg\")\n",
    "\n",
    "# separate files by class\n",
    "raw_train_bacteria_files = [fn for fn in raw_train_files if 'BACTERIA' in fn]\n",
    "raw_train_virus_files = [fn for fn in raw_train_files if 'VIRUS' in fn]\n",
    "raw_train_normal_files = [fn for fn in raw_train_files if 'NORMAL' in fn]"
   ]
  },
  {
   "cell_type": "code",
   "execution_count": null,
   "metadata": {},
   "outputs": [],
   "source": [
    "# make list of files in test set\n",
    "test_files = raw_test_files\n",
    "\n",
    "# randomly sample image files for validation set\n",
    "bacteria_val_files = np.random.choice(raw_train_bacteria_files,\n",
    "                                      size=len(raw_train_bacteria_files) // 4,\n",
    "                                      replace=False).tolist()\n",
    "\n",
    "virus_val_files = np.random.choice(raw_train_virus_files,\n",
    "                                   size=len(raw_train_virus_files) // 4,\n",
    "                                   replace=False).tolist()\n",
    "\n",
    "normal_val_files = np.random.choice(raw_train_normal_files,\n",
    "                                    size=len(raw_train_normal_files) // 4,\n",
    "                                    replace=False).tolist()\n",
    "\n",
    "# make lists of files for training set\n",
    "bacteria_train_files = list(set(raw_train_bacteria_files) - set(bacteria_val_files))\n",
    "virus_train_files = list(set(raw_train_virus_files) - set(virus_val_files))\n",
    "normal_train_files = list(set(raw_train_normal_files) - set(normal_val_files))\n",
    "\n",
    "# concatenate the lists for the train and validation sets\n",
    "train_files = bacteria_train_files + virus_train_files + normal_train_files\n",
    "validation_files = bacteria_val_files + virus_val_files + normal_val_files"
   ]
  },
  {
   "cell_type": "code",
   "execution_count": null,
   "metadata": {},
   "outputs": [],
   "source": [
    "# set path for processed data directory\n",
    "processed_data_path = \"C:/Users/Jonathon.Poage/Desktop/Springboard/Git_and_Github/Capstone_2_repo/data/processed/\"\n",
    "\n",
    "# make train validation test subdirectories\n",
    "train_dir = processed_data_path + \"training_data/\"\n",
    "validation_dir = processed_data_path + \"validation_data/\"\n",
    "test_dir = processed_data_path + \"test_data/\""
   ]
  },
  {
   "cell_type": "code",
   "execution_count": null,
   "metadata": {},
   "outputs": [],
   "source": [
    "# if train validation test subdirectories exist, delete them\n",
    "if os.path.exists(train_dir):\n",
    "    shutil.rmtree(train_dir)\n",
    "    \n",
    "if os.path.exists(validation_dir):\n",
    "    shutil.rmtree(validation_dir)\n",
    "    \n",
    "if os.path.exists(test_dir):\n",
    "    shutil.rmtree(test_dir)\n",
    "    \n",
    "# make new train validation test subdirectories\n",
    "os.makedirs(train_dir)\n",
    "os.makedirs(validation_dir)\n",
    "os.makedirs(test_dir)"
   ]
  },
  {
   "cell_type": "code",
   "execution_count": null,
   "metadata": {},
   "outputs": [],
   "source": [
    "# copy the files to the processed data subdirectories\n",
    "for fn in train_files:\n",
    "    shutil.copy(fn, train_dir)\n",
    "    \n",
    "for fn in validation_files:\n",
    "    shutil.copy(fn, validation_dir)\n",
    "    \n",
    "for fn in test_files:\n",
    "    shutil.copy(fn, test_dir)"
   ]
  }
 ],
 "metadata": {
  "kernelspec": {
   "display_name": "Python (py36)",
   "language": "python",
   "name": "py36"
  },
  "language_info": {
   "codemirror_mode": {
    "name": "ipython",
    "version": 3
   },
   "file_extension": ".py",
   "mimetype": "text/x-python",
   "name": "python",
   "nbconvert_exporter": "python",
   "pygments_lexer": "ipython3",
   "version": "3.6.8"
  }
 },
 "nbformat": 4,
 "nbformat_minor": 2
}

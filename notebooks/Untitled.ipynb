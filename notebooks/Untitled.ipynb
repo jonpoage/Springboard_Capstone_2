{
 "cells": [
  {
   "cell_type": "code",
   "execution_count": 2,
   "metadata": {},
   "outputs": [],
   "source": [
    "from keras.layers import Conv2D, MaxPooling2D, Flatten, Dense, Dropout\n",
    "from keras.models import Sequential\n",
    "from keras import optimizers"
   ]
  },
  {
   "cell_type": "code",
   "execution_count": 7,
   "metadata": {},
   "outputs": [],
   "source": [
    "input_shape = (224, 224, 3)\n",
    "kernel_size = (3, 3)\n",
    "pool_size = (2, 2)"
   ]
  },
  {
   "cell_type": "code",
   "execution_count": 57,
   "metadata": {},
   "outputs": [],
   "source": [
    "def get_my_NN_classifier(input_dim, activation='relu', rate=0.3):\n",
    "    my_NN_classifier = Sequential()\n",
    "    \n",
    "    my_NN_classifier.add(Dense(512, activation=activation, input_dim=input_dim))\n",
    "    my_NN_classifier.add(Dropout(rate=rate))\n",
    "\n",
    "    my_NN_classifier.add(Dense(512, activation=activation))\n",
    "    my_NN_classifier.add(Dropout(rate=rate))\n",
    "    \n",
    "    my_NN_classifier.add(Dense(3, activation='softmax'))\n",
    "    \n",
    "    return my_NN_classifier"
   ]
  },
  {
   "cell_type": "code",
   "execution_count": 13,
   "metadata": {},
   "outputs": [],
   "source": [
    "def get_my_conv_layers(input_shape=(224, 224, 3), kernel_size=(3, 3), pool_size=(2, 2), activation='relu'):\n",
    "    my_conv_layers = Sequential()\n",
    "\n",
    "    my_conv_layers.add(Conv2D(32, kernel_size=kernel_size, activation=activation, input_shape=input_shape))\n",
    "    my_conv_layers.add(MaxPooling2D(pool_size=pool_size))\n",
    "\n",
    "    my_conv_layers.add(Conv2D(64, kernel_size=kernel_size, activation=activation))\n",
    "    my_conv_layers.add(MaxPooling2D(pool_size=pool_size))\n",
    "\n",
    "    my_conv_layers.add(Conv2D(128, kernel_size=kernel_size, activation=activation))\n",
    "    my_conv_layers.add(MaxPooling2D(pool_size=pool_size))\n",
    "\n",
    "    my_conv_layers.add(Conv2D(128, kernel_size=kernel_size, activation=activation))\n",
    "    my_conv_layers.add(MaxPooling2D(pool_size=pool_size))\n",
    "\n",
    "    my_conv_layers.add(Flatten())\n",
    "    \n",
    "    return my_conv_layers"
   ]
  }
 ],
 "metadata": {
  "kernelspec": {
   "display_name": "Python (py36)",
   "language": "python",
   "name": "py36"
  },
  "language_info": {
   "codemirror_mode": {
    "name": "ipython",
    "version": 3
   },
   "file_extension": ".py",
   "mimetype": "text/x-python",
   "name": "python",
   "nbconvert_exporter": "python",
   "pygments_lexer": "ipython3",
   "version": "3.6.8"
  }
 },
 "nbformat": 4,
 "nbformat_minor": 2
}
